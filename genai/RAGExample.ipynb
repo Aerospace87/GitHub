{
  "nbformat": 4,
  "nbformat_minor": 0,
  "metadata": {
    "colab": {
      "provenance": [],
      "gpuType": "T4",
      "authorship_tag": "ABX9TyPLLVNFGrIjrqsWKhfcM+2C",
      "include_colab_link": true
    },
    "kernelspec": {
      "name": "python3",
      "display_name": "Python 3"
    },
    "language_info": {
      "name": "python"
    },
    "accelerator": "GPU"
  },
  "cells": [
    {
      "cell_type": "markdown",
      "metadata": {
        "id": "view-in-github",
        "colab_type": "text"
      },
      "source": [
        "<a href=\"https://colab.research.google.com/github/Aerospace87/GitHub/blob/main/genai/RAGExample.ipynb\" target=\"_parent\"><img src=\"https://colab.research.google.com/assets/colab-badge.svg\" alt=\"Open In Colab\"/></a>"
      ]
    },
    {
      "cell_type": "markdown",
      "source": [
        "## RAG Pipeline\n",
        "\n",
        "1. The user inputs a question\n",
        "2. The pipeline retrieves the most similar documents to the question\n",
        "3. The pipeline passes the question and the retrieved documents to the\n",
        "LLM\n",
        "4. The pipeline generates a response"
      ],
      "metadata": {
        "id": "hNaysFMjF2SD"
      }
    },
    {
      "cell_type": "code",
      "execution_count": 3,
      "metadata": {
        "id": "hb-h23e1EowJ"
      },
      "outputs": [],
      "source": [
        "def embed_documents(documents: list[str]):\n",
        "    # Use a sentence transformer model to encode the documents\n",
        "    # Store the documents somewhere\n",
        "\n",
        "    pass"
      ]
    },
    {
      "cell_type": "code",
      "source": [
        "def retrieve_documents(query: str):\n",
        "  # Use the stored documents to retrieve the most similar documents to the query\n",
        "\n",
        "  pass"
      ],
      "metadata": {
        "id": "zBjuDbfLEx38"
      },
      "execution_count": 5,
      "outputs": []
    },
    {
      "cell_type": "code",
      "source": [
        "def generate_response(query: str, documents: list[str]):\n",
        "  # Use the LLM to generate a response\n",
        "\n",
        "  pass"
      ],
      "metadata": {
        "id": "ntzggsndFNKw"
      },
      "execution_count": 4,
      "outputs": []
    },
    {
      "cell_type": "code",
      "source": [
        "def pipeline(query: str):\n",
        "  documents = retrieve_documents(query)\n",
        "  response = generate_response(query, documents)\n",
        "  return response"
      ],
      "metadata": {
        "id": "G8Pu3PJ1FVNl"
      },
      "execution_count": null,
      "outputs": []
    },
    {
      "cell_type": "markdown",
      "source": [
        "## Embedding documents\n",
        "\n",
        "Creation of some documents about news in 2025 to embed:"
      ],
      "metadata": {
        "id": "fD4KUz8_JT0E"
      }
    },
    {
      "cell_type": "code",
      "source": [
        "documents = [\n",
        "    \"The highest-grossing movie of 2025 so far is \\\"Ne Zha 2\\\", a Chinese animated film that has grossed over $948 million worldwide\",\n",
        "    \"\\\"A Minecraft Movie\\\" is the second highest-grossing film, with a worldwide gross of $423,822,028\",\n",
        "    \"\\\"Lilo & Stitch\\\" is the third highest-grossing movie with a $632 million gross\",\n",
        "    \"Paris Saint-Germain won UEFA Champions League in 2025\",\n",
        "    \"The president of USA in 2025 was Donald Trump\",\n",
        "    \"Israel launched blistering attacks on the heart of Iran’s nuclear and military structure in 2025\"\n",
        "]"
      ],
      "metadata": {
        "id": "et_E0UjjJaZS"
      },
      "execution_count": 6,
      "outputs": []
    },
    {
      "cell_type": "code",
      "source": [
        "embed_documents(documents)"
      ],
      "metadata": {
        "id": "gjEzVpKvME6-"
      },
      "execution_count": 7,
      "outputs": []
    },
    {
      "cell_type": "markdown",
      "source": [
        "## RAG"
      ],
      "metadata": {
        "id": "RyKNbQWLJQV5"
      }
    },
    {
      "cell_type": "code",
      "source": [
        "query = \"\"\n",
        "pipeline(query)"
      ],
      "metadata": {
        "id": "WnTb68LKFcET"
      },
      "execution_count": null,
      "outputs": []
    }
  ]
}